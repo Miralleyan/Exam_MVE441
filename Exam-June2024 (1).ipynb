{
 "cells": [
  {
   "cell_type": "markdown",
   "id": "d4c6b9ec",
   "metadata": {},
   "source": [
    "### EXAM May 24 - June 7, 2024 ###\n",
    "\n",
    "The take-home exam comprises 2 questions with several subtasks each. Read through the entire exam before you start and think carefully about code-sharing between tasks to save time on execution. \n",
    "\n",
    "It is a good strategy to attempt to answer all tasks since I will give partial marks. In addition, several of the tasks are interlinked. \n",
    "\n",
    "Putting random results without motivation is not a good strategy. What I look for in your exams is a clear insight and motivation as to what you do to adress each task. If you do \"random\" things, or, even worse, \"throw everything at the problem\" and don't explain why you think this answers the questions, then this results in no marks. So please make sure you clearly state **why** you use a method/strategy/pipeline.\n",
    "\n",
    "You should work alone for this exam. The reports will be checked with Urkund. You can discuss coding issues or bugs with other students *sparingly*, but don't discuss how to intepret figures or tables. \n",
    "\n",
    "\"Can I use ChatGPT?\" It's been my experience that, while ChatGPT can be helpful, it is also overconfident in providing answers that are in fact wrong. It takes time to check the output from ChatGPT and, depending on your own skillset, this may result in an overall waste of time rather than a saving time, especially if you want to connect multiple tasks. Your main task is to analyze and *interpret* the results. \n",
    "\n",
    "So I would say that you should use ChatGPT with caution and only for simple coding questions like generating plots, proposed functions calls (which may contain bugs), skeleton for coding pipelines, etc. Don't use ChatGPT for generating text. \n",
    "\n",
    "GOOD LUCK!\n",
    "\n",
    "\n",
    "\n",
    "- The report should not be longer than **1 page of text + max 1/2 page conclusion/main summary per sub-task (sub-tasks = a,b,c etc)**. \n",
    "- You do not have to discuss the methods and assumptions *unless* this pertains to a result you present - i.e. you don't need to write a \"lab report\" with introduction, methods, analysis and conclusions. Here, it's only analysis and conclusions that I am interested in. However, **you may need to refer to assumptions to explain why your results look like they do**.\n",
    "- Figures and Tables: **maximum of 4 figures and 2 tables per sub-task** (figures can contain panels but don't go overboard - I need to be able to read axes etc so tiny figures will not be appreciated). \n",
    "- **Make sure you provide captions** for the tables and figures - these should clearly state what the figure/table contains as well as a 1-2 conclusion statement about what can be learnt from the figure/table. **Refer to the figures and tables in the text!**\n",
    "- **MOTIVATE YOUR ANSWERS!** \n",
    "- **Don't contradict your results!** If something is unexpected say so and explain why you thought you would see something different.\n",
    "- Be careful about using buzzwords, guessing what I want you to write etc - just go directly from your results.\n",
    "- Please think about your presentation. Spell check, grammar check. \"The arm-length check\": meaning, skim through the report as it appears on the screen - does it look nice and neat or is it messy with mis-alignments, cut-off sentences, plots that are tiny etc? \n",
    "- **No cut and paste code mixed with the text.** \n",
    "- No, jupyter notebooks are not accepted as a report. Preferably use latex (overleaf) for neat reports.\n",
    "- Yes, **you can use bulletpoints to present your findings**. This could be especially useful for the subtask conclusion. \n",
    "- Stress your main findings in the 1/2 page subtask conclusion.\n",
    "- Make sure you put the figures with each subtask after the subtask discussion and *before* the next subtask so I don't have to scroll back and forth between tasks when I grade."
   ]
  },
  {
   "cell_type": "markdown",
   "id": "1add1bb6",
   "metadata": {},
   "source": [
    "\n",
    "### IMPORTANT ###\n",
    "Wherever the exam task contains a question (\"Does X differ from Y?\", \"Is A performing better than B\") it is *not sufficient* to answer \"Yes\" or \"No\" - you need to explain how you arrived to this conclusion, which results provide you with these answers, as well as a statement trying explain *why* the results are what they are. Likewise, when a task is phrased as \"Can you do X to get Y?\" I, of course, mean for you to attempt to answer this question by doing something, not just hypothesizing about it.\n",
    "\n",
    "To answer the questions it is for the most part inadequate to perform the task once on the full data set. Make use of re-sampling techniques to support your findings."
   ]
  },
  {
   "cell_type": "markdown",
   "id": "1d277bbf",
   "metadata": {},
   "source": [
    "### Data set 1 ###\n",
    "For the first part of the exam question you will use a data set with 1866 observations and 6 features. The data set is contained in a tab-del file called \"Fish.txt\" posted on canvas. The data set contains information about different species of fish, such as weight, height and width. It also contains length measures of three types called L1, L2 and L3 that measure length from the \"nose\" to the beginning of the tail (L1) blue line in image below), nose to the notch of the tail (L2, yellow) and full length (L3, red).\n",
    "\n",
    "\n",
    "\n",
    "<img src=\"bream2.jpg\">\n",
    "\n",
    "\n",
    "\n",
    "The last column of the data matrix contains a 7-class label vector (figure examples below are *not* representative of abolute length since they are rescaled to the same size, but gives you a sense of the the L1,L2,L3 relationship).\n",
    "\n",
    "<img src=\"fish2.jpg\">\n",
    "\n",
    "For all subtasks, make sure you motivate your answers and provide a take-home message summarizing your main conclusions."
   ]
  },
  {
   "cell_type": "markdown",
   "id": "ef0cf565",
   "metadata": {
    "jp-MarkdownHeadingCollapsed": true
   },
   "source": [
    "### Question 1 (50p) ###\n",
    "##### 1a (20p) #####\n",
    "Train multiple classifiers (at least 6, of varying degrees of complexity and character (parametric, nonparametric, linear, nonlinear,...) on multiple training-test splits of the data. Compare classification performance.\n",
    "\n",
    "Pay particular attention to the following;\n",
    "- imbalance between classes, how you handle this\n",
    "- classification accuracy, specificity and sensitivity overall, and at the class level.\n",
    "\n",
    "Be careful about using the full data set for any training/validation steps. For example, exploration and dimension reduction, if you choose to pursue this approach, should be done of the training data only.\n",
    "\n",
    "Make sure to discuss:\n",
    "\n",
    "*Overall performance and how you assess this*\n",
    "\n",
    "*Are all or only some classes well separated* \n",
    "\n",
    "*Class imbalance, modeling assumptions, training metrics*\n",
    "\n",
    "*The full training pipeline you set up and motivate all your choices*\n",
    "\n",
    "\n",
    "##### 1b (10p) #####\n",
    "Which set of features are optimal classification performance? Does this differ for different classifiers in 1a? Does this differ between the classes? \n",
    "\n",
    "Does this vary between observations, e.g., between correctly labeled and the mislabeled observations?\n",
    "\n",
    "Use at least 3 different methods to answer the above questions. Discuss the stability of selection and the confidence you can attach to your estimate of the number of features needed or features selected, and how you assessed this.\n",
    "\n",
    "Make sure to discuss: \n",
    "\n",
    "*Method comparisons*\n",
    "\n",
    "*Interpretation of the results - why are these features important?*\n",
    "\n",
    "*Be clear in how you attach confidence to your estimates*\n",
    "\n",
    "\n",
    "##### 1c (10p) #####\n",
    "This data set is low-dimensional. Turn it into a high-dimensional data set by adding simulated features to the data set. \n",
    "\n",
    "(i) Perform a simulation study where you add more and more features that are unrelated to the class labels. How does this impact classification performance and the feature selection task? \n",
    "\n",
    "(ii) Perform a simulation study where you add more and more features that are correlated with the original feautures. How does this impact classification performance and the feature selection task? \n",
    "\n",
    "\n",
    "You can use a subset of classification methods (2-3) and feature selection techniques here (1-2) from 1a and 1b. \n",
    "\n",
    "Make sure to discuss/investigate:\n",
    "\n",
    "*Classfication performance deterioration as a function of the proportion of noise features*\n",
    "\n",
    "*Impact on feature selection*\n",
    "\n",
    "##### 1d (10p) #####\n",
    "Revist task 1(a) and consider if observations can be classified with confidence as belonging to one class or if set prediction is more appropriate for some observations.\n",
    "\n",
    "Is there any evidence that there are mislabeled observations in the data set? Explain and demonstrate. \n",
    "\n",
    "Make sure to discuss:\n",
    "\n",
    "*How you quantify how many observations can be classified with confidence, and which sets of predictions are allocated to which observations*\n",
    "\n",
    "*If you could identify mislabeled observations in the original data*\n",
    "\n",
    "\n",
    "\n",
    "\n",
    "\n"
   ]
  },
  {
   "cell_type": "markdown",
   "id": "6b514aff-82f6-420a-91e0-3b9e70db56fc",
   "metadata": {},
   "source": [
    "### Data set 2 ###\n",
    "For this question you will use a variant of the MNIST digits data that I have created/manipulated in various ways. The data set is quite large with 50000 28*28 raster scan images. The first column of the data matrix is the label. \n",
    "\n",
    "Remark: Because the data set is so large, you will have to think carefully how to approach the problem. There are R and python packages that provide big-N variants of the methods from class - you are free to use any package you like as long as you can explain what they do. \n",
    "\n",
    "We have also talked about running models on batches of data, which you can do for both classification and clustering. For classification, you can aggregate the models from different subsets of data as any ensemble method. For clustering, this is a bit more tricky. To answer the question 2c you don't necessarily need to aggregate. If you still want to aggregate, one common approach is to cluster batches of data with a large number of clusters and then use cluster representatives to aggregate. Think kmeans with many clusters applied to each batch - a.k.a. local clustering. Take the centroids from each batch and cluster these - a.k.a. global clustering. Now you know how to assign cluster labels to all the data since the local clusters \"inherit\" the labels from their cluster centroid.\n",
    "\n",
    "In the end, you are limited by the computing resources you have and you can obtain answers to the questions below without having to resort to high-performance computing. "
   ]
  },
  {
   "cell_type": "code",
   "execution_count": 1,
   "id": "c5da8c91-f6dc-401e-ad73-7b43681cfa6b",
   "metadata": {},
   "outputs": [],
   "source": [
    "MM<-read.csv(\"MyMNIST.csv\")"
   ]
  },
  {
   "cell_type": "code",
   "execution_count": 2,
   "id": "41dd4cee-b811-42fa-9903-46f0d0bc2c67",
   "metadata": {},
   "outputs": [
    {
     "data": {
      "image/png": "[encoded data removed]",
      "text/plain": [
       "plot without title"
      ]
     },
     "metadata": {
      "image/png": {
       "height": 420,
       "width": 420
      }
     },
     "output_type": "display_data"
    }
   ],
   "source": [
    "par(mfrow=c(2,2))\n",
    "ss<-sample(seq(1,50000),4)\n",
    "for (kk in (1:length(ss))) {\n",
    "  a<-t(matrix(as.numeric(MM[ss[kk],-1]),28,28,byrow=T))[,28:1]\n",
    "  image(a,col=gray.colors(33)) }"
   ]
  },
  {
   "cell_type": "markdown",
   "id": "a25b2958-72ef-4f2f-a269-020905e45c1b",
   "metadata": {},
   "source": [
    "### Question 2 (50p) ###\n",
    "\n",
    "##### 2a(10p) #####\n",
    "Use linear and nonlinear dimension reduction techniques (e.g. SVD, sparseSVD, kernelPCA, NMF, AE, tSNE) and filtering (testing) to explore the data set. \n",
    "\n",
    "Make sure to discuss:\n",
    "\n",
    "*How the results differ between methods*\n",
    "\n",
    "*How the dimension reduction techniques shed light on class separation, or lack thereof*\n",
    "\n",
    "*How the dimension reduction techniques provide insight into the regions of the images that separate the classes*\n",
    "\n",
    "*How you handled the large number of observations*\n",
    "\n",
    "##### 2b(20p) #####\n",
    "Investigate classification performance as a function of training sample size on this data set. Make sure to use a wide range of classification methods (at least 5) and discuss what aspects of the data makes some methods perform worse than others.\n",
    "\n",
    "Make sure to discuss:\n",
    "\n",
    "*How you adressed the dimensionality of the data set*\n",
    "\n",
    "*Specific challenges in classifying this data set, looking at class distributions, potential mislabeleing, noise level etc*\n",
    "\n",
    "*Method comparisons*\n",
    "\n",
    "*Discuss how sample size impacts classification performance and relative performance between the methods.*\n",
    "\n",
    "\n",
    "##### 2c(20p) #####\n",
    "Can clustering retrieve the all/some of the classes? \n",
    "\n",
    "Investigate at least 3 clustering methods. \n",
    "\n",
    "Make sure to discuss:\n",
    "\n",
    "*How you decide on the number of clusters*\n",
    "\n",
    "*How you utilize the massive amounts of data available to you*\n",
    "\n",
    "*Which classes are retrivable and which are not, and why you think this is the case*\n"
   ]
  }
 ],
 "metadata": {
  "kernelspec": {
   "display_name": "R 4.4.0",
   "language": "R",
   "name": "ir44"
  },
  "language_info": {
   "codemirror_mode": "r",
   "file_extension": ".r",
   "mimetype": "text/x-r-source",
   "name": "R",
   "pygments_lexer": "r",
   "version": "4.4.0"
  }
 },
 "nbformat": 4,
 "nbformat_minor": 5
}
